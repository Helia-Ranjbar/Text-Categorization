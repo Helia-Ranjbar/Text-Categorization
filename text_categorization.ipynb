{
 "cells": [
  {
   "cell_type": "markdown",
   "metadata": {},
   "source": [
    "<h1 align=center style=\"line-height:200%;font-family:vazir;color:#0099cc\">\n",
    "<font face=\"vazir\" color=\"#0099cc\">Text Categorization \n",
    "</font>\n",
    "</h1>"
   ]
  },
  {
   "cell_type": "markdown",
   "metadata": {},
   "source": [
    "In this project, the data collected by the yektanet platform is refined and collected. We intend to train a model that can determine the subject category of that document according to the text in a link such as title, description, text content."
   ]
  },
  {
   "cell_type": "code",
   "execution_count": 17,
   "metadata": {},
   "outputs": [],
   "source": [
    "import numpy as np\n",
    "import pandas as pd"
   ]
  },
  {
   "cell_type": "code",
   "execution_count": 18,
   "metadata": {},
   "outputs": [
    {
     "data": {
      "text/html": [
       "<div>\n",
       "<style scoped>\n",
       "    .dataframe tbody tr th:only-of-type {\n",
       "        vertical-align: middle;\n",
       "    }\n",
       "\n",
       "    .dataframe tbody tr th {\n",
       "        vertical-align: top;\n",
       "    }\n",
       "\n",
       "    .dataframe thead th {\n",
       "        text-align: right;\n",
       "    }\n",
       "</style>\n",
       "<table border=\"1\" class=\"dataframe\">\n",
       "  <thead>\n",
       "    <tr style=\"text-align: right;\">\n",
       "      <th></th>\n",
       "      <th>category</th>\n",
       "      <th>description</th>\n",
       "      <th>text_content</th>\n",
       "      <th>title</th>\n",
       "      <th>h1</th>\n",
       "      <th>h2</th>\n",
       "      <th>url</th>\n",
       "      <th>domain</th>\n",
       "      <th>id</th>\n",
       "    </tr>\n",
       "  </thead>\n",
       "  <tbody>\n",
       "    <tr>\n",
       "      <th>0</th>\n",
       "      <td>کتاب و ادبیات</td>\n",
       "      <td>از شوبنده ها: جستجو معنی \"از شوبنده ها\" در فره...</td>\n",
       "      <td>معنی از شوبنده ها | جدول یاب از شوبنده ها 381</td>\n",
       "      <td>معنی از شوبنده ها | جدول یاب</td>\n",
       "      <td>معنی از شوبنده ها</td>\n",
       "      <td>از شوبنده ها در معادل ابجد</td>\n",
       "      <td>jadvalyab.ir/search?q=%D8%A7%D8%B2+%D8%B4%D9%8...</td>\n",
       "      <td>jadvalyab.ir</td>\n",
       "      <td>158</td>\n",
       "    </tr>\n",
       "    <tr>\n",
       "      <th>1</th>\n",
       "      <td>تجارت و اقتصاد</td>\n",
       "      <td>بیت‌کوین کش یک ارز مجازی مشهور است و بیت‌کوین ...</td>\n",
       "      <td>عکس بیت‌کوین کش برای پروفایل عکس و والپیپرهای ...</td>\n",
       "      <td>عکس بیت‌کوین کش برای پروفایل</td>\n",
       "      <td>عکس بیت‌کوین کش برای پروفایل</td>\n",
       "      <td>عکس بیت کوین با کیفیت 4K عکس ارزهای دیجیتال عک...</td>\n",
       "      <td>jowhareh.com/photo/%D8%B9%DA%A9%D8%B3-%D8%A8%D...</td>\n",
       "      <td>jowhareh.com</td>\n",
       "      <td>3268</td>\n",
       "    </tr>\n",
       "    <tr>\n",
       "      <th>2</th>\n",
       "      <td>سلامت</td>\n",
       "      <td>نوبت دهی دکتر مهناز عابدینی متخصص رادیولوژی و ...</td>\n",
       "      <td>دکتر مهناز عابدینی متخصص رادیولوژی و سونوگرافی...</td>\n",
       "      <td>دکتر مهناز عابدینی متخصص رادیولوژی و سونوگرافی...</td>\n",
       "      <td>دکتر مهناز عابدینی</td>\n",
       "      <td>آدرس و تلفن دکتر مهناز عابدینی نظرات و تجربیات...</td>\n",
       "      <td>doctor-yab.ir/Search/14773/%D8%AF%DA%A9%D8%AA%...</td>\n",
       "      <td>doctor-yab.ir</td>\n",
       "      <td>175</td>\n",
       "    </tr>\n",
       "    <tr>\n",
       "      <th>3</th>\n",
       "      <td>تکنولوژی و کامپبوتر</td>\n",
       "      <td>نرم افزار Geph برای اندروید یک پلت‌فرم چندسکوی...</td>\n",
       "      <td>دانلود تحریم‌گذر Geph برای اندروید خانه/اندروی...</td>\n",
       "      <td>دانلود تحریم‌گذر Geph برای اندروید</td>\n",
       "      <td>دانلود تحریم‌گذر Geph برای اندروید</td>\n",
       "      <td>دانلود نرم افزار Geph</td>\n",
       "      <td>palexe.site/dl/geph-android/</td>\n",
       "      <td>palexe.site</td>\n",
       "      <td>3402</td>\n",
       "    </tr>\n",
       "    <tr>\n",
       "      <th>4</th>\n",
       "      <td>تکنولوژی و کامپبوتر</td>\n",
       "      <td>سری جدید تلویزیون‌های هوشمند سامسونگ که با نام...</td>\n",
       "      <td>ترفندهای پرکاربرد تلویزیون‌‌های هوشمند سامسونگ...</td>\n",
       "      <td>ترفندهای پرکاربرد تلویزیون‌‌های هوشمند سامسونگ...</td>\n",
       "      <td>ترفندهای پرکاربرد تلویزیون‌‌های هوشمند سامسونگ</td>\n",
       "      <td>راه‌اندازی تلویزیون همگام‌سازی کنترل اتصال به ...</td>\n",
       "      <td>rokhdadeghtesadi.ir/43874/</td>\n",
       "      <td>rokhdadeghtesadi.ir</td>\n",
       "      <td>3811</td>\n",
       "    </tr>\n",
       "    <tr>\n",
       "      <th>...</th>\n",
       "      <td>...</td>\n",
       "      <td>...</td>\n",
       "      <td>...</td>\n",
       "      <td>...</td>\n",
       "      <td>...</td>\n",
       "      <td>...</td>\n",
       "      <td>...</td>\n",
       "      <td>...</td>\n",
       "      <td>...</td>\n",
       "    </tr>\n",
       "    <tr>\n",
       "      <th>4784</th>\n",
       "      <td>سلامت</td>\n",
       "      <td>سلام خانم دکتر یه سوال مهم دارم آیا قرص ال دی ...</td>\n",
       "      <td>قرص ال دی با دوفاستون تداخل داره؟ پرسش (1397/0...</td>\n",
       "      <td>قرص ال دی با دوفاستون تداخل داره؟</td>\n",
       "      <td>قرص ال دی با دوفاستون تداخل داره؟</td>\n",
       "      <td>NaN</td>\n",
       "      <td>ooma.org/ask/77389/%D9%82%D8%B1%D8%B5-%D8%A7%D...</td>\n",
       "      <td>ooma.org</td>\n",
       "      <td>769</td>\n",
       "    </tr>\n",
       "    <tr>\n",
       "      <th>4785</th>\n",
       "      <td>خانه و باغبانی</td>\n",
       "      <td>فروش نقدی و اقساطی ماشین لباسشویی اسنوا سری ها...</td>\n",
       "      <td>فروش نقدی و اقساطی ماشین لباسشویی اسنوا سری ها...</td>\n",
       "      <td>فروش نقدی و اقساطی ماشین لباسشویی اسنوا سری ها...</td>\n",
       "      <td>فروش اقساطی ماشین لباسشویی اسنوا سری هارمونی 8...</td>\n",
       "      <td>فروش اقساطی کالای دیجیتال فروش اقساطی لوازم اد...</td>\n",
       "      <td>ghesticlub.com/Products/Snowa-Harmony-8-kg-was...</td>\n",
       "      <td>ghesticlub.com</td>\n",
       "      <td>1226</td>\n",
       "    </tr>\n",
       "    <tr>\n",
       "      <th>4786</th>\n",
       "      <td>غذا و نوشیدنی</td>\n",
       "      <td>قهوه سرا در مشهد -شماره تلفن قهوه سرا در مشهد ...</td>\n",
       "      <td>قهوه درویش در مشهد - پشت بام تهران ورود/ثبت نا...</td>\n",
       "      <td>قهوه درویش در مشهد - پشت بام</td>\n",
       "      <td>قهوه درویش در مشهد</td>\n",
       "      <td>قهوه درویش در مشهد</td>\n",
       "      <td>poshtebam.com/Banners/AdsDetail/377919/</td>\n",
       "      <td>poshtebam.com</td>\n",
       "      <td>2967</td>\n",
       "    </tr>\n",
       "    <tr>\n",
       "      <th>4787</th>\n",
       "      <td>ورزش</td>\n",
       "      <td>گزارش برخی رسانه‌های خارجی نشان می‌دهد اطلاعات...</td>\n",
       "      <td>کمک غیرمستقیم فیفا به کی‌روش! | تمام رقیبان تی...</td>\n",
       "      <td>کمک غیرمستقیم فیفا به کی‌روش! | تمام رقیبان تی...</td>\n",
       "      <td>کمک غیرمستقیم فیفا به کی‌روش! | تمام رقیبان تی...</td>\n",
       "      <td>Hamshahri Online برچسب‌ها پر بیننده‌ترین اخبار...</td>\n",
       "      <td>hamshahrionline.ir/news/715355/%DA%A9%D9%85%DA...</td>\n",
       "      <td>hamshahrionline.ir</td>\n",
       "      <td>2684</td>\n",
       "    </tr>\n",
       "    <tr>\n",
       "      <th>4788</th>\n",
       "      <td>تکنولوژی و کامپبوتر</td>\n",
       "      <td>دانلود برنامه جدید برای به روزرسانی درایورهای ...</td>\n",
       "      <td>دانلود Driver DR 6.3.0.42950 – نرم افزار به رو...</td>\n",
       "      <td>دانلود Driver DR 6.3.0.42950 – نرم افزار به رو...</td>\n",
       "      <td>دانلود رایگان نرم افزار دانلود Driver DR 6.3.0...</td>\n",
       "      <td>تبلیغات تبلیغات تبلیغات تبلیغات دانلود Driver DR</td>\n",
       "      <td>downloadsoftware.ir/driver-dr.php/</td>\n",
       "      <td>downloadsoftware.ir</td>\n",
       "      <td>4354</td>\n",
       "    </tr>\n",
       "  </tbody>\n",
       "</table>\n",
       "<p>4789 rows × 9 columns</p>\n",
       "</div>"
      ],
      "text/plain": [
       "                 category                                        description  \\\n",
       "0           کتاب و ادبیات  از شوبنده ها: جستجو معنی \"از شوبنده ها\" در فره...   \n",
       "1          تجارت و اقتصاد  بیت‌کوین کش یک ارز مجازی مشهور است و بیت‌کوین ...   \n",
       "2                   سلامت  نوبت دهی دکتر مهناز عابدینی متخصص رادیولوژی و ...   \n",
       "3     تکنولوژی و کامپبوتر  نرم افزار Geph برای اندروید یک پلت‌فرم چندسکوی...   \n",
       "4     تکنولوژی و کامپبوتر  سری جدید تلویزیون‌های هوشمند سامسونگ که با نام...   \n",
       "...                   ...                                                ...   \n",
       "4784                سلامت  سلام خانم دکتر یه سوال مهم دارم آیا قرص ال دی ...   \n",
       "4785       خانه و باغبانی  فروش نقدی و اقساطی ماشین لباسشویی اسنوا سری ها...   \n",
       "4786        غذا و نوشیدنی  قهوه سرا در مشهد -شماره تلفن قهوه سرا در مشهد ...   \n",
       "4787                 ورزش  گزارش برخی رسانه‌های خارجی نشان می‌دهد اطلاعات...   \n",
       "4788  تکنولوژی و کامپبوتر  دانلود برنامه جدید برای به روزرسانی درایورهای ...   \n",
       "\n",
       "                                           text_content  \\\n",
       "0         معنی از شوبنده ها | جدول یاب از شوبنده ها 381   \n",
       "1     عکس بیت‌کوین کش برای پروفایل عکس و والپیپرهای ...   \n",
       "2     دکتر مهناز عابدینی متخصص رادیولوژی و سونوگرافی...   \n",
       "3     دانلود تحریم‌گذر Geph برای اندروید خانه/اندروی...   \n",
       "4     ترفندهای پرکاربرد تلویزیون‌‌های هوشمند سامسونگ...   \n",
       "...                                                 ...   \n",
       "4784  قرص ال دی با دوفاستون تداخل داره؟ پرسش (1397/0...   \n",
       "4785  فروش نقدی و اقساطی ماشین لباسشویی اسنوا سری ها...   \n",
       "4786  قهوه درویش در مشهد - پشت بام تهران ورود/ثبت نا...   \n",
       "4787  کمک غیرمستقیم فیفا به کی‌روش! | تمام رقیبان تی...   \n",
       "4788  دانلود Driver DR 6.3.0.42950 – نرم افزار به رو...   \n",
       "\n",
       "                                                  title  \\\n",
       "0                          معنی از شوبنده ها | جدول یاب   \n",
       "1                          عکس بیت‌کوین کش برای پروفایل   \n",
       "2     دکتر مهناز عابدینی متخصص رادیولوژی و سونوگرافی...   \n",
       "3                    دانلود تحریم‌گذر Geph برای اندروید   \n",
       "4     ترفندهای پرکاربرد تلویزیون‌‌های هوشمند سامسونگ...   \n",
       "...                                                 ...   \n",
       "4784                  قرص ال دی با دوفاستون تداخل داره؟   \n",
       "4785  فروش نقدی و اقساطی ماشین لباسشویی اسنوا سری ها...   \n",
       "4786                       قهوه درویش در مشهد - پشت بام   \n",
       "4787  کمک غیرمستقیم فیفا به کی‌روش! | تمام رقیبان تی...   \n",
       "4788  دانلود Driver DR 6.3.0.42950 – نرم افزار به رو...   \n",
       "\n",
       "                                                     h1  \\\n",
       "0                                     معنی از شوبنده ها   \n",
       "1                          عکس بیت‌کوین کش برای پروفایل   \n",
       "2                                    دکتر مهناز عابدینی   \n",
       "3                    دانلود تحریم‌گذر Geph برای اندروید   \n",
       "4        ترفندهای پرکاربرد تلویزیون‌‌های هوشمند سامسونگ   \n",
       "...                                                 ...   \n",
       "4784                  قرص ال دی با دوفاستون تداخل داره؟   \n",
       "4785  فروش اقساطی ماشین لباسشویی اسنوا سری هارمونی 8...   \n",
       "4786                                 قهوه درویش در مشهد   \n",
       "4787  کمک غیرمستقیم فیفا به کی‌روش! | تمام رقیبان تی...   \n",
       "4788  دانلود رایگان نرم افزار دانلود Driver DR 6.3.0...   \n",
       "\n",
       "                                                     h2  \\\n",
       "0                            از شوبنده ها در معادل ابجد   \n",
       "1     عکس بیت کوین با کیفیت 4K عکس ارزهای دیجیتال عک...   \n",
       "2     آدرس و تلفن دکتر مهناز عابدینی نظرات و تجربیات...   \n",
       "3                                 دانلود نرم افزار Geph   \n",
       "4     راه‌اندازی تلویزیون همگام‌سازی کنترل اتصال به ...   \n",
       "...                                                 ...   \n",
       "4784                                                NaN   \n",
       "4785  فروش اقساطی کالای دیجیتال فروش اقساطی لوازم اد...   \n",
       "4786                                 قهوه درویش در مشهد   \n",
       "4787  Hamshahri Online برچسب‌ها پر بیننده‌ترین اخبار...   \n",
       "4788   تبلیغات تبلیغات تبلیغات تبلیغات دانلود Driver DR   \n",
       "\n",
       "                                                    url               domain  \\\n",
       "0     jadvalyab.ir/search?q=%D8%A7%D8%B2+%D8%B4%D9%8...         jadvalyab.ir   \n",
       "1     jowhareh.com/photo/%D8%B9%DA%A9%D8%B3-%D8%A8%D...         jowhareh.com   \n",
       "2     doctor-yab.ir/Search/14773/%D8%AF%DA%A9%D8%AA%...        doctor-yab.ir   \n",
       "3                          palexe.site/dl/geph-android/          palexe.site   \n",
       "4                            rokhdadeghtesadi.ir/43874/  rokhdadeghtesadi.ir   \n",
       "...                                                 ...                  ...   \n",
       "4784  ooma.org/ask/77389/%D9%82%D8%B1%D8%B5-%D8%A7%D...             ooma.org   \n",
       "4785  ghesticlub.com/Products/Snowa-Harmony-8-kg-was...       ghesticlub.com   \n",
       "4786            poshtebam.com/Banners/AdsDetail/377919/        poshtebam.com   \n",
       "4787  hamshahrionline.ir/news/715355/%DA%A9%D9%85%DA...   hamshahrionline.ir   \n",
       "4788                 downloadsoftware.ir/driver-dr.php/  downloadsoftware.ir   \n",
       "\n",
       "        id  \n",
       "0      158  \n",
       "1     3268  \n",
       "2      175  \n",
       "3     3402  \n",
       "4     3811  \n",
       "...    ...  \n",
       "4784   769  \n",
       "4785  1226  \n",
       "4786  2967  \n",
       "4787  2684  \n",
       "4788  4354  \n",
       "\n",
       "[4789 rows x 9 columns]"
      ]
     },
     "execution_count": 18,
     "metadata": {},
     "output_type": "execute_result"
    }
   ],
   "source": [
    "train = pd.read_csv('../data/yektanet_train.csv')\n",
    "test = pd.read_csv('../data/yektanet_test.csv')\n",
    "train"
   ]
  },
  {
   "cell_type": "markdown",
   "metadata": {},
   "source": [
    "<h2 align=center style=\"line-height:200%;font-family:vazir;color:#0099cc\">\n",
    "<font face=\"vazir\" color=\"#0099cc\">\n",
    "Data Preparing and Feature Engineering\n",
    "</font>\n",
    "</h2>\n",
    "\n"
   ]
  },
  {
   "cell_type": "markdown",
   "metadata": {},
   "source": [
    "First, we need to balance the number of data in each category."
   ]
  },
  {
   "cell_type": "code",
   "execution_count": 19,
   "metadata": {},
   "outputs": [
    {
     "data": {
      "text/html": [
       "<div>\n",
       "<style scoped>\n",
       "    .dataframe tbody tr th:only-of-type {\n",
       "        vertical-align: middle;\n",
       "    }\n",
       "\n",
       "    .dataframe tbody tr th {\n",
       "        vertical-align: top;\n",
       "    }\n",
       "\n",
       "    .dataframe thead th {\n",
       "        text-align: right;\n",
       "    }\n",
       "</style>\n",
       "<table border=\"1\" class=\"dataframe\">\n",
       "  <thead>\n",
       "    <tr style=\"text-align: right;\">\n",
       "      <th></th>\n",
       "      <th>title</th>\n",
       "    </tr>\n",
       "  </thead>\n",
       "  <tbody>\n",
       "    <tr>\n",
       "      <th>0</th>\n",
       "      <td>معنی از شوبنده ها | جدول یاب</td>\n",
       "    </tr>\n",
       "    <tr>\n",
       "      <th>1</th>\n",
       "      <td>عکس بیت‌کوین کش برای پروفایل</td>\n",
       "    </tr>\n",
       "    <tr>\n",
       "      <th>2</th>\n",
       "      <td>دکتر مهناز عابدینی متخصص رادیولوژی و سونوگرافی...</td>\n",
       "    </tr>\n",
       "    <tr>\n",
       "      <th>3</th>\n",
       "      <td>دانلود تحریم‌گذر Geph برای اندروید</td>\n",
       "    </tr>\n",
       "    <tr>\n",
       "      <th>4</th>\n",
       "      <td>ترفندهای پرکاربرد تلویزیون‌‌های هوشمند سامسونگ...</td>\n",
       "    </tr>\n",
       "    <tr>\n",
       "      <th>...</th>\n",
       "      <td>...</td>\n",
       "    </tr>\n",
       "    <tr>\n",
       "      <th>13503</th>\n",
       "      <td>انتشارات فردوسی در باب همایون | کتاب اول</td>\n",
       "    </tr>\n",
       "    <tr>\n",
       "      <th>13504</th>\n",
       "      <td>آفتامات |دانلود کتاب معمای ثروت اثر جمال پورمینه</td>\n",
       "    </tr>\n",
       "    <tr>\n",
       "      <th>13505</th>\n",
       "      <td>کتاب داستان فلسفی - رمان فلسفی</td>\n",
       "    </tr>\n",
       "    <tr>\n",
       "      <th>13506</th>\n",
       "      <td>خرید و قیمت کتاب قصه ها و غصه های زال زر اثر ع...</td>\n",
       "    </tr>\n",
       "    <tr>\n",
       "      <th>13507</th>\n",
       "      <td>وین‌ثبت | اتحادیه صنف فروشندگان کتاب و لوازم ا...</td>\n",
       "    </tr>\n",
       "  </tbody>\n",
       "</table>\n",
       "<p>13508 rows × 1 columns</p>\n",
       "</div>"
      ],
      "text/plain": [
       "                                                   title\n",
       "0                           معنی از شوبنده ها | جدول یاب\n",
       "1                           عکس بیت‌کوین کش برای پروفایل\n",
       "2      دکتر مهناز عابدینی متخصص رادیولوژی و سونوگرافی...\n",
       "3                     دانلود تحریم‌گذر Geph برای اندروید\n",
       "4      ترفندهای پرکاربرد تلویزیون‌‌های هوشمند سامسونگ...\n",
       "...                                                  ...\n",
       "13503           انتشارات فردوسی در باب همایون | کتاب اول\n",
       "13504   آفتامات |دانلود کتاب معمای ثروت اثر جمال پورمینه\n",
       "13505                     کتاب داستان فلسفی - رمان فلسفی\n",
       "13506  خرید و قیمت کتاب قصه ها و غصه های زال زر اثر ع...\n",
       "13507  وین‌ثبت | اتحادیه صنف فروشندگان کتاب و لوازم ا...\n",
       "\n",
       "[13508 rows x 1 columns]"
      ]
     },
     "execution_count": 19,
     "metadata": {},
     "output_type": "execute_result"
    }
   ],
   "source": [
    "from imblearn.over_sampling import RandomOverSampler\n",
    "\n",
    "x_train = train.title\n",
    "y_train = train.category\n",
    "test = test.title\n",
    "\n",
    "ros = RandomOverSampler()\n",
    "\n",
    "X_resampled, y_resampled = ros.fit_resample(np.array(x_train).reshape(-1,1), np.array(y_train).reshape(-1,1))\n",
    "\n",
    "X_resampled = pd.DataFrame(X_resampled,columns=['title'])\n",
    "y_resampled = pd.DataFrame(y_resampled,columns=['category'])\n",
    "test = pd.DataFrame(test,columns=['title'])\n",
    "\n",
    "X_resampled"
   ]
  },
  {
   "cell_type": "markdown",
   "metadata": {},
   "source": [
    "Then we convert each text into a set of tokens after preparation."
   ]
  },
  {
   "cell_type": "code",
   "execution_count": 20,
   "metadata": {},
   "outputs": [],
   "source": [
    "from hazm import Normalizer, Stemmer, word_tokenize, stopwords_list, Lemmatizer\n",
    "def is_not_number(s):\n",
    "    try:\n",
    "        float(s)\n",
    "        return False\n",
    "    except ValueError:\n",
    "        return True\n",
    "def preprocessing(text):\n",
    "    stemmer = Stemmer()\n",
    "    text=stemmer.stem(text)\n",
    "    return text \n",
    "\n",
    "\n",
    "def tokenizer(text):\n",
    "    text = preprocessing(text)\n",
    "    text=word_tokenize(text)\n",
    "    stopwords = stopwords_list()\n",
    "    text= [item for item in text if item not in stopwords and is_not_number(item)]\n",
    "    return text"
   ]
  },
  {
   "cell_type": "code",
   "execution_count": 21,
   "metadata": {},
   "outputs": [
    {
     "data": {
      "text/plain": [
       "21    614\n",
       "2     614\n",
       "1     614\n",
       "8     614\n",
       "12    614\n",
       "3     614\n",
       "18    614\n",
       "7     614\n",
       "19    614\n",
       "10    614\n",
       "14    614\n",
       "16    614\n",
       "0     614\n",
       "15    614\n",
       "9     614\n",
       "17    614\n",
       "5     614\n",
       "13    614\n",
       "20    614\n",
       "4     614\n",
       "11    614\n",
       "6     614\n",
       "Name: category, dtype: int64"
      ]
     },
     "execution_count": 21,
     "metadata": {},
     "output_type": "execute_result"
    }
   ],
   "source": [
    "from sklearn.preprocessing import LabelEncoder\n",
    "\n",
    "label_encoder = LabelEncoder()\n",
    "\n",
    "y_resampled['category'] = label_encoder.fit_transform(y_resampled['category'])\n",
    "\n",
    "y_resampled['category'].value_counts()"
   ]
  },
  {
   "attachments": {},
   "cell_type": "markdown",
   "metadata": {},
   "source": [
    "<h2 align=center style=\"line-height:200%;font-family:vazir;color:#0099cc\">\n",
    "<font face=\"vazir\" color=\"#0099cc\">\n",
    "Learning Model\n",
    "</font>\n",
    "</h2>\n"
   ]
  },
  {
   "cell_type": "markdown",
   "metadata": {},
   "source": [
    "First, we convert the tokens into numerical vectors using the TF-IDF method."
   ]
  },
  {
   "cell_type": "code",
   "execution_count": 22,
   "metadata": {},
   "outputs": [
    {
     "name": "stderr",
     "output_type": "stream",
     "text": [
      "c:\\quera\\ML2\\qenv\\lib\\site-packages\\sklearn\\feature_extraction\\text.py:528: UserWarning: The parameter 'token_pattern' will not be used since 'tokenizer' is not None'\n",
      "  warnings.warn(\n"
     ]
    },
    {
     "data": {
      "text/html": [
       "<style>#sk-container-id-1 {color: black;background-color: white;}#sk-container-id-1 pre{padding: 0;}#sk-container-id-1 div.sk-toggleable {background-color: white;}#sk-container-id-1 label.sk-toggleable__label {cursor: pointer;display: block;width: 100%;margin-bottom: 0;padding: 0.3em;box-sizing: border-box;text-align: center;}#sk-container-id-1 label.sk-toggleable__label-arrow:before {content: \"▸\";float: left;margin-right: 0.25em;color: #696969;}#sk-container-id-1 label.sk-toggleable__label-arrow:hover:before {color: black;}#sk-container-id-1 div.sk-estimator:hover label.sk-toggleable__label-arrow:before {color: black;}#sk-container-id-1 div.sk-toggleable__content {max-height: 0;max-width: 0;overflow: hidden;text-align: left;background-color: #f0f8ff;}#sk-container-id-1 div.sk-toggleable__content pre {margin: 0.2em;color: black;border-radius: 0.25em;background-color: #f0f8ff;}#sk-container-id-1 input.sk-toggleable__control:checked~div.sk-toggleable__content {max-height: 200px;max-width: 100%;overflow: auto;}#sk-container-id-1 input.sk-toggleable__control:checked~label.sk-toggleable__label-arrow:before {content: \"▾\";}#sk-container-id-1 div.sk-estimator input.sk-toggleable__control:checked~label.sk-toggleable__label {background-color: #d4ebff;}#sk-container-id-1 div.sk-label input.sk-toggleable__control:checked~label.sk-toggleable__label {background-color: #d4ebff;}#sk-container-id-1 input.sk-hidden--visually {border: 0;clip: rect(1px 1px 1px 1px);clip: rect(1px, 1px, 1px, 1px);height: 1px;margin: -1px;overflow: hidden;padding: 0;position: absolute;width: 1px;}#sk-container-id-1 div.sk-estimator {font-family: monospace;background-color: #f0f8ff;border: 1px dotted black;border-radius: 0.25em;box-sizing: border-box;margin-bottom: 0.5em;}#sk-container-id-1 div.sk-estimator:hover {background-color: #d4ebff;}#sk-container-id-1 div.sk-parallel-item::after {content: \"\";width: 100%;border-bottom: 1px solid gray;flex-grow: 1;}#sk-container-id-1 div.sk-label:hover label.sk-toggleable__label {background-color: #d4ebff;}#sk-container-id-1 div.sk-serial::before {content: \"\";position: absolute;border-left: 1px solid gray;box-sizing: border-box;top: 0;bottom: 0;left: 50%;z-index: 0;}#sk-container-id-1 div.sk-serial {display: flex;flex-direction: column;align-items: center;background-color: white;padding-right: 0.2em;padding-left: 0.2em;position: relative;}#sk-container-id-1 div.sk-item {position: relative;z-index: 1;}#sk-container-id-1 div.sk-parallel {display: flex;align-items: stretch;justify-content: center;background-color: white;position: relative;}#sk-container-id-1 div.sk-item::before, #sk-container-id-1 div.sk-parallel-item::before {content: \"\";position: absolute;border-left: 1px solid gray;box-sizing: border-box;top: 0;bottom: 0;left: 50%;z-index: -1;}#sk-container-id-1 div.sk-parallel-item {display: flex;flex-direction: column;z-index: 1;position: relative;background-color: white;}#sk-container-id-1 div.sk-parallel-item:first-child::after {align-self: flex-end;width: 50%;}#sk-container-id-1 div.sk-parallel-item:last-child::after {align-self: flex-start;width: 50%;}#sk-container-id-1 div.sk-parallel-item:only-child::after {width: 0;}#sk-container-id-1 div.sk-dashed-wrapped {border: 1px dashed gray;margin: 0 0.4em 0.5em 0.4em;box-sizing: border-box;padding-bottom: 0.4em;background-color: white;}#sk-container-id-1 div.sk-label label {font-family: monospace;font-weight: bold;display: inline-block;line-height: 1.2em;}#sk-container-id-1 div.sk-label-container {text-align: center;}#sk-container-id-1 div.sk-container {/* jupyter's `normalize.less` sets `[hidden] { display: none; }` but bootstrap.min.css set `[hidden] { display: none !important; }` so we also need the `!important` here to be able to override the default hidden behavior on the sphinx rendered scikit-learn.org. See: https://github.com/scikit-learn/scikit-learn/issues/21755 */display: inline-block !important;position: relative;}#sk-container-id-1 div.sk-text-repr-fallback {display: none;}</style><div id=\"sk-container-id-1\" class=\"sk-top-container\"><div class=\"sk-text-repr-fallback\"><pre>TfidfVectorizer(tokenizer=&lt;function tokenizer at 0x00000221DCC73430&gt;)</pre><b>In a Jupyter environment, please rerun this cell to show the HTML representation or trust the notebook. <br />On GitHub, the HTML representation is unable to render, please try loading this page with nbviewer.org.</b></div><div class=\"sk-container\" hidden><div class=\"sk-item\"><div class=\"sk-estimator sk-toggleable\"><input class=\"sk-toggleable__control sk-hidden--visually\" id=\"sk-estimator-id-1\" type=\"checkbox\" checked><label for=\"sk-estimator-id-1\" class=\"sk-toggleable__label sk-toggleable__label-arrow\">TfidfVectorizer</label><div class=\"sk-toggleable__content\"><pre>TfidfVectorizer(tokenizer=&lt;function tokenizer at 0x00000221DCC73430&gt;)</pre></div></div></div></div></div>"
      ],
      "text/plain": [
       "TfidfVectorizer(tokenizer=<function tokenizer at 0x00000221DCC73430>)"
      ]
     },
     "execution_count": 22,
     "metadata": {},
     "output_type": "execute_result"
    }
   ],
   "source": [
    "from sklearn.feature_extraction.text import TfidfVectorizer\n",
    "from sklearn.svm import LinearSVC\n",
    "\n",
    "tfidf = TfidfVectorizer(tokenizer=tokenizer)\n",
    "tfidf.fit(X_resampled.title)\n",
    "\n"
   ]
  },
  {
   "cell_type": "markdown",
   "metadata": {},
   "source": [
    "Then we use SVM algorithm to train the model."
   ]
  },
  {
   "cell_type": "code",
   "execution_count": 23,
   "metadata": {},
   "outputs": [
    {
     "name": "stderr",
     "output_type": "stream",
     "text": [
      "c:\\quera\\ML2\\qenv\\lib\\site-packages\\sklearn\\utils\\validation.py:1141: DataConversionWarning: A column-vector y was passed when a 1d array was expected. Please change the shape of y to (n_samples, ), for example using ravel().\n",
      "  y = column_or_1d(y, warn=True)\n"
     ]
    }
   ],
   "source": [
    "svm = LinearSVC(loss='hinge', penalty='l2', max_iter=5000)\n",
    "svm.fit(tfidf.transform(X_resampled.title), y_resampled)\n",
    "\n",
    "\n",
    "title_pred =  svm.predict(tfidf.transform(X_resampled.title))"
   ]
  },
  {
   "attachments": {},
   "cell_type": "markdown",
   "metadata": {},
   "source": [
    "<h2 align=center style=\"line-height:200%;font-family:vazir;color:#0099cc\">\n",
    "<font face=\"vazir\" color=\"#0099cc\">Evaluation\n",
    "</font>\n",
    "</h2>\n",
    "\n"
   ]
  },
  {
   "cell_type": "markdown",
   "metadata": {},
   "source": [
    "The criterion we chose to evaluate the model is called f1_score and it uses the average-weighted approach."
   ]
  },
  {
   "cell_type": "code",
   "execution_count": 24,
   "metadata": {},
   "outputs": [
    {
     "data": {
      "text/plain": [
       "0.9939325825127255"
      ]
     },
     "execution_count": 24,
     "metadata": {},
     "output_type": "execute_result"
    }
   ],
   "source": [
    "from sklearn.metrics import f1_score\n",
    "\n",
    "score = f1_score(y_true = y_resampled,y_pred=title_pred, average='weighted')\n",
    "score"
   ]
  },
  {
   "cell_type": "markdown",
   "metadata": {},
   "source": [
    "<h2 align=center style=\"line-height:200%;font-family:vazir;color:#0099cc\">\n",
    "<font face=\"vazir\" color=\"#0099cc\">\n",
    "Prediction for Test Data\n",
    "</font>\n",
    "</h2>\n"
   ]
  },
  {
   "cell_type": "code",
   "execution_count": 25,
   "metadata": {},
   "outputs": [
    {
     "data": {
      "text/html": [
       "<div>\n",
       "<style scoped>\n",
       "    .dataframe tbody tr th:only-of-type {\n",
       "        vertical-align: middle;\n",
       "    }\n",
       "\n",
       "    .dataframe tbody tr th {\n",
       "        vertical-align: top;\n",
       "    }\n",
       "\n",
       "    .dataframe thead th {\n",
       "        text-align: right;\n",
       "    }\n",
       "</style>\n",
       "<table border=\"1\" class=\"dataframe\">\n",
       "  <thead>\n",
       "    <tr style=\"text-align: right;\">\n",
       "      <th></th>\n",
       "      <th>category</th>\n",
       "    </tr>\n",
       "  </thead>\n",
       "  <tbody>\n",
       "    <tr>\n",
       "      <th>0</th>\n",
       "      <td>هنر و سرگرمی</td>\n",
       "    </tr>\n",
       "    <tr>\n",
       "      <th>1</th>\n",
       "      <td>حقوق و دولت و سیاست</td>\n",
       "    </tr>\n",
       "    <tr>\n",
       "      <th>2</th>\n",
       "      <td>حقوق و دولت و سیاست</td>\n",
       "    </tr>\n",
       "    <tr>\n",
       "      <th>3</th>\n",
       "      <td>موسیقی</td>\n",
       "    </tr>\n",
       "    <tr>\n",
       "      <th>4</th>\n",
       "      <td>حقوق و دولت و سیاست</td>\n",
       "    </tr>\n",
       "    <tr>\n",
       "      <th>...</th>\n",
       "      <td>...</td>\n",
       "    </tr>\n",
       "    <tr>\n",
       "      <th>412</th>\n",
       "      <td>سلامت</td>\n",
       "    </tr>\n",
       "    <tr>\n",
       "      <th>413</th>\n",
       "      <td>سلامت</td>\n",
       "    </tr>\n",
       "    <tr>\n",
       "      <th>414</th>\n",
       "      <td>موسیقی</td>\n",
       "    </tr>\n",
       "    <tr>\n",
       "      <th>415</th>\n",
       "      <td>هنر و سرگرمی</td>\n",
       "    </tr>\n",
       "    <tr>\n",
       "      <th>416</th>\n",
       "      <td>تکنولوژی و کامپبوتر</td>\n",
       "    </tr>\n",
       "  </tbody>\n",
       "</table>\n",
       "<p>417 rows × 1 columns</p>\n",
       "</div>"
      ],
      "text/plain": [
       "                category\n",
       "0           هنر و سرگرمی\n",
       "1    حقوق و دولت و سیاست\n",
       "2    حقوق و دولت و سیاست\n",
       "3                 موسیقی\n",
       "4    حقوق و دولت و سیاست\n",
       "..                   ...\n",
       "412                سلامت\n",
       "413                سلامت\n",
       "414               موسیقی\n",
       "415         هنر و سرگرمی\n",
       "416  تکنولوژی و کامپبوتر\n",
       "\n",
       "[417 rows x 1 columns]"
      ]
     },
     "execution_count": 25,
     "metadata": {},
     "output_type": "execute_result"
    }
   ],
   "source": [
    "pred =  svm.predict(tfidf.transform(test.title))\n",
    "submission = pd.DataFrame(pred, columns=['category'])\n",
    "submission\n",
    "\n",
    "submission['category'] = label_encoder.inverse_transform(submission['category'])\n",
    "submission"
   ]
  },
  {
   "cell_type": "code",
   "execution_count": 26,
   "metadata": {},
   "outputs": [],
   "source": [
    "submission.to_csv('submission.csv', index=False)"
   ]
  }
 ],
 "metadata": {
  "kernelspec": {
   "display_name": "qenv",
   "language": "python",
   "name": "qenv"
  },
  "language_info": {
   "codemirror_mode": {
    "name": "ipython",
    "version": 3
   },
   "file_extension": ".py",
   "mimetype": "text/x-python",
   "name": "python",
   "nbconvert_exporter": "python",
   "pygments_lexer": "ipython3",
   "version": "3.9.12"
  },
  "orig_nbformat": 4,
  "vscode": {
   "interpreter": {
    "hash": "b25290d91e68666390a3f16911fef54d65a01c351d921450f79ed6c4a91d0756"
   }
  }
 },
 "nbformat": 4,
 "nbformat_minor": 2
}
